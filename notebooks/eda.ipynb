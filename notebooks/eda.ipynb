{
 "cells": [
  {
   "cell_type": "markdown",
   "id": "4b1f71c1",
   "metadata": {},
   "source": [
    "# 🧠 Credit Card Fraud Detection EDA\n",
    "\n",
    "This notebook performs exploratory data analysis (EDA) on the credit card transactions dataset."
   ]
  },
  {
   "cell_type": "code",
   "execution_count": null,
   "id": "a7a86d2a",
   "metadata": {},
   "outputs": [],
   "source": [
    "import pandas as pd\n",
    "import matplotlib.pyplot as plt\n",
    "import seaborn as sns\n",
    "\n",
    "# Set style\n",
    "sns.set(style='whitegrid')\n",
    "\n",
    "# Load the dataset\n",
    "df = pd.read_csv('../data/creditcard.csv')\n",
    "df.head()"
   ]
  },
  {
   "cell_type": "markdown",
   "id": "83eee3eb",
   "metadata": {},
   "source": [
    "## 📊 Basic Info"
   ]
  },
  {
   "cell_type": "code",
   "execution_count": null,
   "id": "66f72f31",
   "metadata": {},
   "outputs": [],
   "source": [
    "# Dataset shape\n",
    "print(\"Shape:\", df.shape)\n",
    "\n",
    "# Info\n",
    "df.info()\n",
    "\n",
    "# Missing values\n",
    "df.isnull().sum()"
   ]
  },
  {
   "cell_type": "markdown",
   "id": "b88013c1",
   "metadata": {},
   "source": [
    "## 📉 Class Distribution"
   ]
  },
  {
   "cell_type": "code",
   "execution_count": null,
   "id": "8a8a68ec",
   "metadata": {},
   "outputs": [],
   "source": [
    "# Class counts\n",
    "print(df['Class'].value_counts())\n",
    "\n",
    "# Plot class distribution\n",
    "sns.countplot(x='Class', data=df)\n",
    "plt.title('Class Distribution (0 = Non-Fraud, 1 = Fraud)')\n",
    "plt.show()"
   ]
  },
  {
   "cell_type": "markdown",
   "id": "91e21c86",
   "metadata": {},
   "source": [
    "## 💸 Amount Analysis"
   ]
  },
  {
   "cell_type": "code",
   "execution_count": null,
   "id": "c48328eb",
   "metadata": {},
   "outputs": [],
   "source": [
    "# Distribution of transaction amount\n",
    "sns.histplot(df['Amount'], bins=50, kde=True)\n",
    "plt.title('Transaction Amount Distribution')\n",
    "plt.xlabel('Amount')\n",
    "plt.ylabel('Frequency')\n",
    "plt.show()"
   ]
  },
  {
   "cell_type": "markdown",
   "id": "6a301945",
   "metadata": {},
   "source": [
    "## ⏱️ Time of Transaction"
   ]
  },
  {
   "cell_type": "code",
   "execution_count": null,
   "id": "c64192a5",
   "metadata": {},
   "outputs": [],
   "source": [
    "# Time feature\n",
    "sns.histplot(df['Time'], bins=50)\n",
    "plt.title('Transaction Time Distribution (in seconds)')\n",
    "plt.xlabel('Time')\n",
    "plt.ylabel('Frequency')\n",
    "plt.show()"
   ]
  },
  {
   "cell_type": "markdown",
   "id": "48b6af0a",
   "metadata": {},
   "source": [
    "## 🔍 Correlation with Class"
   ]
  },
  {
   "cell_type": "code",
   "execution_count": null,
   "id": "3055a291",
   "metadata": {},
   "outputs": [],
   "source": [
    "# Correlation with target\n",
    "correlations = df.corr()['Class'].sort_values(ascending=False)\n",
    "print(correlations.head(10))\n",
    "\n",
    "# Optional: plot top 5 correlated features\n",
    "top_features = correlations.index[1:6]\n",
    "sns.pairplot(df[top_features.to_list() + ['Class']], hue='Class')\n",
    "plt.show()"
   ]
  },
  {
   "cell_type": "markdown",
   "id": "debba67d",
   "metadata": {},
   "source": [
    "## 🧼 Summary"
   ]
  },
  {
   "cell_type": "code",
   "execution_count": null,
   "id": "94627ce3",
   "metadata": {},
   "outputs": [],
   "source": [
    "# Summary statistics\n",
    "df.describe()"
   ]
  }
 ],
 "metadata": {
  "kernelspec": {
   "display_name": "Python 3",
   "language": "python",
   "name": "python3"
  },
  "language_info": {
   "codemirror_mode": {
    "name": "ipython",
    "version": 3
   },
   "file_extension": ".py",
   "mimetype": "text/x-python",
   "name": "python",
   "nbconvert_exporter": "python",
   "pygments_lexer": "ipython3",
   "version": "3.9.7"
  }
 },
 "nbformat": 4,
 "nbformat_minor": 5
}
